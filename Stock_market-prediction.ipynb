{
 "cells": [
  {
   "cell_type": "code",
   "execution_count": 7,
   "metadata": {},
   "outputs": [],
   "source": [
    "import numpy as np\n",
    "import pandas as pd\n",
    "import tensorflow as tf\n",
    "import matplotlib.pyplot as plt\n",
    "from pandas_datareader import data as pdr \n",
    "from datetime import datetime\n",
    "import yfinance as yfin"
   ]
  },
  {
   "cell_type": "code",
   "execution_count": 10,
   "metadata": {},
   "outputs": [],
   "source": [
    "end=datetime.now()\n",
    "start=datetime(2017,1,1)"
   ]
  },
  {
   "cell_type": "code",
   "execution_count": 12,
   "metadata": {},
   "outputs": [
    {
     "name": "stderr",
     "output_type": "stream",
     "text": [
      "[*********************100%%**********************]  1 of 1 completed\n"
     ]
    }
   ],
   "source": [
    "yfin.pdr_override()\n",
    "df=pdr.get_data_yahoo('AAPL',start=start,end=end)"
   ]
  },
  {
   "cell_type": "code",
   "execution_count": 15,
   "metadata": {},
   "outputs": [],
   "source": [
    "df.reset_index(inplace=True)"
   ]
  },
  {
   "cell_type": "code",
   "execution_count": 18,
   "metadata": {},
   "outputs": [
    {
     "data": {
      "text/html": [
       "<div>\n",
       "<style scoped>\n",
       "    .dataframe tbody tr th:only-of-type {\n",
       "        vertical-align: middle;\n",
       "    }\n",
       "\n",
       "    .dataframe tbody tr th {\n",
       "        vertical-align: top;\n",
       "    }\n",
       "\n",
       "    .dataframe thead th {\n",
       "        text-align: right;\n",
       "    }\n",
       "</style>\n",
       "<table border=\"1\" class=\"dataframe\">\n",
       "  <thead>\n",
       "    <tr style=\"text-align: right;\">\n",
       "      <th></th>\n",
       "      <th>Date</th>\n",
       "      <th>Open</th>\n",
       "      <th>High</th>\n",
       "      <th>Low</th>\n",
       "      <th>Close</th>\n",
       "      <th>Adj Close</th>\n",
       "      <th>Volume</th>\n",
       "    </tr>\n",
       "  </thead>\n",
       "  <tbody>\n",
       "    <tr>\n",
       "      <th>0</th>\n",
       "      <td>2017-01-03</td>\n",
       "      <td>28.950001</td>\n",
       "      <td>29.082500</td>\n",
       "      <td>28.690001</td>\n",
       "      <td>29.037500</td>\n",
       "      <td>27.023706</td>\n",
       "      <td>115127600</td>\n",
       "    </tr>\n",
       "    <tr>\n",
       "      <th>1</th>\n",
       "      <td>2017-01-04</td>\n",
       "      <td>28.962500</td>\n",
       "      <td>29.127501</td>\n",
       "      <td>28.937500</td>\n",
       "      <td>29.004999</td>\n",
       "      <td>26.993458</td>\n",
       "      <td>84472400</td>\n",
       "    </tr>\n",
       "    <tr>\n",
       "      <th>2</th>\n",
       "      <td>2017-01-05</td>\n",
       "      <td>28.980000</td>\n",
       "      <td>29.215000</td>\n",
       "      <td>28.952499</td>\n",
       "      <td>29.152500</td>\n",
       "      <td>27.130732</td>\n",
       "      <td>88774400</td>\n",
       "    </tr>\n",
       "  </tbody>\n",
       "</table>\n",
       "</div>"
      ],
      "text/plain": [
       "        Date       Open       High        Low      Close  Adj Close     Volume\n",
       "0 2017-01-03  28.950001  29.082500  28.690001  29.037500  27.023706  115127600\n",
       "1 2017-01-04  28.962500  29.127501  28.937500  29.004999  26.993458   84472400\n",
       "2 2017-01-05  28.980000  29.215000  28.952499  29.152500  27.130732   88774400"
      ]
     },
     "execution_count": 18,
     "metadata": {},
     "output_type": "execute_result"
    }
   ],
   "source": [
    "df.head(3)"
   ]
  },
  {
   "cell_type": "code",
   "execution_count": 19,
   "metadata": {},
   "outputs": [],
   "source": [
    "df.set_index('Date',drop=True,inplace=True)"
   ]
  },
  {
   "cell_type": "code",
   "execution_count": 20,
   "metadata": {},
   "outputs": [
    {
     "data": {
      "text/html": [
       "<div>\n",
       "<style scoped>\n",
       "    .dataframe tbody tr th:only-of-type {\n",
       "        vertical-align: middle;\n",
       "    }\n",
       "\n",
       "    .dataframe tbody tr th {\n",
       "        vertical-align: top;\n",
       "    }\n",
       "\n",
       "    .dataframe thead th {\n",
       "        text-align: right;\n",
       "    }\n",
       "</style>\n",
       "<table border=\"1\" class=\"dataframe\">\n",
       "  <thead>\n",
       "    <tr style=\"text-align: right;\">\n",
       "      <th></th>\n",
       "      <th>Open</th>\n",
       "      <th>High</th>\n",
       "      <th>Low</th>\n",
       "      <th>Close</th>\n",
       "      <th>Adj Close</th>\n",
       "      <th>Volume</th>\n",
       "    </tr>\n",
       "    <tr>\n",
       "      <th>Date</th>\n",
       "      <th></th>\n",
       "      <th></th>\n",
       "      <th></th>\n",
       "      <th></th>\n",
       "      <th></th>\n",
       "      <th></th>\n",
       "    </tr>\n",
       "  </thead>\n",
       "  <tbody>\n",
       "    <tr>\n",
       "      <th>2017-01-03</th>\n",
       "      <td>28.950001</td>\n",
       "      <td>29.082500</td>\n",
       "      <td>28.690001</td>\n",
       "      <td>29.037500</td>\n",
       "      <td>27.023706</td>\n",
       "      <td>115127600</td>\n",
       "    </tr>\n",
       "    <tr>\n",
       "      <th>2017-01-04</th>\n",
       "      <td>28.962500</td>\n",
       "      <td>29.127501</td>\n",
       "      <td>28.937500</td>\n",
       "      <td>29.004999</td>\n",
       "      <td>26.993458</td>\n",
       "      <td>84472400</td>\n",
       "    </tr>\n",
       "    <tr>\n",
       "      <th>2017-01-05</th>\n",
       "      <td>28.980000</td>\n",
       "      <td>29.215000</td>\n",
       "      <td>28.952499</td>\n",
       "      <td>29.152500</td>\n",
       "      <td>27.130732</td>\n",
       "      <td>88774400</td>\n",
       "    </tr>\n",
       "    <tr>\n",
       "      <th>2017-01-06</th>\n",
       "      <td>29.195000</td>\n",
       "      <td>29.540001</td>\n",
       "      <td>29.117500</td>\n",
       "      <td>29.477501</td>\n",
       "      <td>27.433189</td>\n",
       "      <td>127007600</td>\n",
       "    </tr>\n",
       "    <tr>\n",
       "      <th>2017-01-09</th>\n",
       "      <td>29.487499</td>\n",
       "      <td>29.857500</td>\n",
       "      <td>29.485001</td>\n",
       "      <td>29.747499</td>\n",
       "      <td>27.684469</td>\n",
       "      <td>134247600</td>\n",
       "    </tr>\n",
       "  </tbody>\n",
       "</table>\n",
       "</div>"
      ],
      "text/plain": [
       "                 Open       High        Low      Close  Adj Close     Volume\n",
       "Date                                                                        \n",
       "2017-01-03  28.950001  29.082500  28.690001  29.037500  27.023706  115127600\n",
       "2017-01-04  28.962500  29.127501  28.937500  29.004999  26.993458   84472400\n",
       "2017-01-05  28.980000  29.215000  28.952499  29.152500  27.130732   88774400\n",
       "2017-01-06  29.195000  29.540001  29.117500  29.477501  27.433189  127007600\n",
       "2017-01-09  29.487499  29.857500  29.485001  29.747499  27.684469  134247600"
      ]
     },
     "execution_count": 20,
     "metadata": {},
     "output_type": "execute_result"
    }
   ],
   "source": [
    "df.head()"
   ]
  },
  {
   "cell_type": "code",
   "execution_count": 21,
   "metadata": {},
   "outputs": [
    {
     "data": {
      "text/plain": [
       "Open         0\n",
       "High         0\n",
       "Low          0\n",
       "Close        0\n",
       "Adj Close    0\n",
       "Volume       0\n",
       "dtype: int64"
      ]
     },
     "execution_count": 21,
     "metadata": {},
     "output_type": "execute_result"
    }
   ],
   "source": [
    "df.isna().sum()"
   ]
  },
  {
   "cell_type": "code",
   "execution_count": 22,
   "metadata": {},
   "outputs": [
    {
     "data": {
      "text/plain": [
       "<Axes: xlabel='Date'>"
      ]
     },
     "execution_count": 22,
     "metadata": {},
     "output_type": "execute_result"
    },
    {
     "data": {
      "image/png": "[encoded data removed]",
      "text/plain": [
       "<Figure size 640x480 with 1 Axes>"
      ]
     },
     "metadata": {},
     "output_type": "display_data"
    }
   ],
   "source": [
    "df['Open'].plot()"
   ]
  },
  {
   "cell_type": "code",
   "execution_count": 30,
   "metadata": {},
   "outputs": [],
   "source": [
    "t=int(0.7*len(df))"
   ]
  },
  {
   "cell_type": "code",
   "execution_count": 38,
   "metadata": {},
   "outputs": [],
   "source": [
    "dd=df['Open']"
   ]
  },
  {
   "cell_type": "code",
   "execution_count": 42,
   "metadata": {},
   "outputs": [],
   "source": [
    "train=np.array(dd[:t])\n",
    "test=np.array(dd[t:])"
   ]
  },
  {
   "cell_type": "code",
   "execution_count": 43,
   "metadata": {},
   "outputs": [],
   "source": [
    "from sklearn.preprocessing import StandardScaler\n",
    "scaler=StandardScaler()\n",
    "train=scaler.fit_transform(train.reshape(-1,1))\n",
    "test=scaler.transform(test.reshape(-1,1))"
   ]
  },
  {
   "cell_type": "code",
   "execution_count": 44,
   "metadata": {},
   "outputs": [],
   "source": [
    "def create_dataset(dataset):\n",
    "    time_step=100\n",
    "    x=[]\n",
    "    y=[]\n",
    "    for i in range(len(dataset)-time_step-1):\n",
    "        a=dataset[i:(i+time_step),0]\n",
    "        x.append(a)\n",
    "        b=dataset[i+time_step,0]\n",
    "        y.append(b)\n",
    "    return np.array(x),np.array(y)    "
   ]
  },
  {
   "cell_type": "code",
   "execution_count": 75,
   "metadata": {},
   "outputs": [],
   "source": [
    "x_train,y_train=create_dataset(train)\n",
    "x_test,y_test=create_dataset(test)"
   ]
  },
  {
   "cell_type": "code",
   "execution_count": 76,
   "metadata": {},
   "outputs": [
    {
     "data": {
      "text/plain": [
       "1143"
      ]
     },
     "execution_count": 76,
     "metadata": {},
     "output_type": "execute_result"
    }
   ],
   "source": [
    "x_train.shape[0]"
   ]
  },
  {
   "cell_type": "code",
   "execution_count": 53,
   "metadata": {},
   "outputs": [],
   "source": [
    "from tensorflow.keras.layers import Dense,LSTM\n",
    "from tensorflow.keras import Sequential"
   ]
  },
  {
   "cell_type": "code",
   "execution_count": 95,
   "metadata": {},
   "outputs": [],
   "source": [
    "model=Sequential()\n",
    "model.add(LSTM(60,return_sequences=True,input_shape=(100,1)))\n",
    "model.add(LSTM(60,return_sequences=True))\n",
    "model.add(LSTM(40))\n",
    "model.add(Dense(1))\n",
    "model.compile(loss='mean_squared_error',optimizer='adam')\n"
   ]
  },
  {
   "cell_type": "code",
   "execution_count": 96,
   "metadata": {},
   "outputs": [
    {
     "name": "stdout",
     "output_type": "stream",
     "text": [
      "Model: \"sequential_2\"\n",
      "_________________________________________________________________\n",
      " Layer (type)                Output Shape              Param #   \n",
      "=================================================================\n",
      " lstm_6 (LSTM)               (None, 100, 60)           14880     \n",
      "                                                                 \n",
      " lstm_7 (LSTM)               (None, 100, 60)           29040     \n",
      "                                                                 \n",
      " lstm_8 (LSTM)               (None, 40)                16160     \n",
      "                                                                 \n",
      " dense_2 (Dense)             (None, 1)                 41        \n",
      "                                                                 \n",
      "=================================================================\n",
      "Total params: 60121 (234.85 KB)\n",
      "Trainable params: 60121 (234.85 KB)\n",
      "Non-trainable params: 0 (0.00 Byte)\n",
      "_________________________________________________________________\n"
     ]
    }
   ],
   "source": [
    "model.summary()"
   ]
  },
  {
   "cell_type": "code",
   "execution_count": 85,
   "metadata": {},
   "outputs": [],
   "source": [
    "x_train=x_train.reshape((x_train.shape[0],x_train.shape[1],1))\n",
    "x_test=x_test.reshape((x_test.shape[0],x_train.shape[1],1))"
   ]
  },
  {
   "cell_type": "code",
   "execution_count": 86,
   "metadata": {},
   "outputs": [
    {
     "data": {
      "text/plain": [
       "(1143, 100, 1)"
      ]
     },
     "execution_count": 86,
     "metadata": {},
     "output_type": "execute_result"
    }
   ],
   "source": [
    "x_train.shape"
   ]
  },
  {
   "cell_type": "code",
   "execution_count": 98,
   "metadata": {},
   "outputs": [
    {
     "name": "stdout",
     "output_type": "stream",
     "text": [
      "Epoch 1/100\n",
      "18/18 [==============================] - 5s 276ms/step - loss: 0.0024 - val_loss: 0.0056\n",
      "Epoch 2/100\n",
      "18/18 [==============================] - 3s 159ms/step - loss: 0.0024 - val_loss: 0.0054\n",
      "Epoch 3/100\n",
      "18/18 [==============================] - 3s 150ms/step - loss: 0.0025 - val_loss: 0.0059\n",
      "Epoch 4/100\n",
      "18/18 [==============================] - 3s 156ms/step - loss: 0.0023 - val_loss: 0.0087\n",
      "Epoch 5/100\n",
      "18/18 [==============================] - 3s 149ms/step - loss: 0.0025 - val_loss: 0.0059\n",
      "Epoch 6/100\n",
      "18/18 [==============================] - 3s 151ms/step - loss: 0.0023 - val_loss: 0.0054\n",
      "Epoch 7/100\n",
      "18/18 [==============================] - 3s 145ms/step - loss: 0.0025 - val_loss: 0.0057\n",
      "Epoch 8/100\n",
      "18/18 [==============================] - 3s 148ms/step - loss: 0.0023 - val_loss: 0.0060\n",
      "Epoch 9/100\n",
      "18/18 [==============================] - 3s 148ms/step - loss: 0.0021 - val_loss: 0.0080\n",
      "Epoch 10/100\n",
      "18/18 [==============================] - 3s 145ms/step - loss: 0.0022 - val_loss: 0.0076\n",
      "Epoch 11/100\n",
      "18/18 [==============================] - 3s 149ms/step - loss: 0.0023 - val_loss: 0.0054\n",
      "Epoch 12/100\n",
      "18/18 [==============================] - 3s 163ms/step - loss: 0.0021 - val_loss: 0.0059\n",
      "Epoch 13/100\n",
      "18/18 [==============================] - 5s 204ms/step - loss: 0.0023 - val_loss: 0.0183\n",
      "Epoch 14/100\n",
      "18/18 [==============================] - 3s 154ms/step - loss: 0.0022 - val_loss: 0.0057\n",
      "Epoch 15/100\n",
      "18/18 [==============================] - 2s 98ms/step - loss: 0.0022 - val_loss: 0.0054\n",
      "Epoch 16/100\n",
      "18/18 [==============================] - 2s 92ms/step - loss: 0.0024 - val_loss: 0.0053\n",
      "Epoch 17/100\n",
      "18/18 [==============================] - 2s 88ms/step - loss: 0.0026 - val_loss: 0.0064\n",
      "Epoch 18/100\n",
      "18/18 [==============================] - 2s 89ms/step - loss: 0.0028 - val_loss: 0.0102\n",
      "Epoch 19/100\n",
      "18/18 [==============================] - 2s 90ms/step - loss: 0.0023 - val_loss: 0.0062\n",
      "Epoch 20/100\n",
      "18/18 [==============================] - 2s 89ms/step - loss: 0.0021 - val_loss: 0.0053\n",
      "Epoch 21/100\n",
      "18/18 [==============================] - 2s 88ms/step - loss: 0.0022 - val_loss: 0.0063\n",
      "Epoch 22/100\n",
      "18/18 [==============================] - 2s 93ms/step - loss: 0.0022 - val_loss: 0.0076\n",
      "Epoch 23/100\n",
      "18/18 [==============================] - 2s 98ms/step - loss: 0.0022 - val_loss: 0.0069\n",
      "Epoch 24/100\n",
      "18/18 [==============================] - 2s 99ms/step - loss: 0.0023 - val_loss: 0.0072\n",
      "Epoch 25/100\n",
      "18/18 [==============================] - 2s 90ms/step - loss: 0.0022 - val_loss: 0.0067\n",
      "Epoch 26/100\n",
      "18/18 [==============================] - 2s 111ms/step - loss: 0.0021 - val_loss: 0.0055\n",
      "Epoch 27/100\n",
      "18/18 [==============================] - 2s 127ms/step - loss: 0.0021 - val_loss: 0.0055\n",
      "Epoch 28/100\n",
      "18/18 [==============================] - 2s 124ms/step - loss: 0.0023 - val_loss: 0.0055\n",
      "Epoch 29/100\n",
      "18/18 [==============================] - 2s 127ms/step - loss: 0.0022 - val_loss: 0.0055\n",
      "Epoch 30/100\n",
      "18/18 [==============================] - 2s 110ms/step - loss: 0.0021 - val_loss: 0.0054\n",
      "Epoch 31/100\n",
      "18/18 [==============================] - 2s 121ms/step - loss: 0.0023 - val_loss: 0.0056\n",
      "Epoch 32/100\n",
      "18/18 [==============================] - 2s 128ms/step - loss: 0.0021 - val_loss: 0.0056\n",
      "Epoch 33/100\n",
      "18/18 [==============================] - 2s 107ms/step - loss: 0.0023 - val_loss: 0.0058\n",
      "Epoch 34/100\n",
      "18/18 [==============================] - 2s 99ms/step - loss: 0.0021 - val_loss: 0.0056\n",
      "Epoch 35/100\n",
      "18/18 [==============================] - 2s 105ms/step - loss: 0.0022 - val_loss: 0.0073\n",
      "Epoch 36/100\n",
      "18/18 [==============================] - 2s 101ms/step - loss: 0.0021 - val_loss: 0.0055\n",
      "Epoch 37/100\n",
      "18/18 [==============================] - 2s 96ms/step - loss: 0.0021 - val_loss: 0.0060\n",
      "Epoch 38/100\n",
      "18/18 [==============================] - 2s 92ms/step - loss: 0.0023 - val_loss: 0.0067\n",
      "Epoch 39/100\n",
      "18/18 [==============================] - 2s 96ms/step - loss: 0.0027 - val_loss: 0.0125\n",
      "Epoch 40/100\n",
      "18/18 [==============================] - 2s 95ms/step - loss: 0.0023 - val_loss: 0.0101\n",
      "Epoch 41/100\n",
      "18/18 [==============================] - 2s 103ms/step - loss: 0.0021 - val_loss: 0.0064\n",
      "Epoch 42/100\n",
      "18/18 [==============================] - 2s 98ms/step - loss: 0.0023 - val_loss: 0.0084\n",
      "Epoch 43/100\n",
      "18/18 [==============================] - 2s 98ms/step - loss: 0.0021 - val_loss: 0.0061\n",
      "Epoch 44/100\n",
      "18/18 [==============================] - 2s 102ms/step - loss: 0.0021 - val_loss: 0.0065\n",
      "Epoch 45/100\n",
      "18/18 [==============================] - 2s 101ms/step - loss: 0.0021 - val_loss: 0.0055\n",
      "Epoch 46/100\n",
      "18/18 [==============================] - 2s 100ms/step - loss: 0.0021 - val_loss: 0.0087\n",
      "Epoch 47/100\n",
      "18/18 [==============================] - 2s 97ms/step - loss: 0.0024 - val_loss: 0.0062\n",
      "Epoch 48/100\n",
      "18/18 [==============================] - 2s 96ms/step - loss: 0.0022 - val_loss: 0.0057\n",
      "Epoch 49/100\n",
      "18/18 [==============================] - 2s 105ms/step - loss: 0.0020 - val_loss: 0.0059\n",
      "Epoch 50/100\n",
      "18/18 [==============================] - 2s 99ms/step - loss: 0.0023 - val_loss: 0.0097\n",
      "Epoch 51/100\n",
      "18/18 [==============================] - 2s 100ms/step - loss: 0.0021 - val_loss: 0.0054\n",
      "Epoch 52/100\n",
      "18/18 [==============================] - 2s 107ms/step - loss: 0.0021 - val_loss: 0.0056\n",
      "Epoch 53/100\n",
      "18/18 [==============================] - 2s 104ms/step - loss: 0.0020 - val_loss: 0.0065\n",
      "Epoch 54/100\n",
      "18/18 [==============================] - 2s 98ms/step - loss: 0.0022 - val_loss: 0.0062\n",
      "Epoch 55/100\n",
      "18/18 [==============================] - 2s 95ms/step - loss: 0.0020 - val_loss: 0.0055\n",
      "Epoch 56/100\n",
      "18/18 [==============================] - 2s 96ms/step - loss: 0.0020 - val_loss: 0.0056\n",
      "Epoch 57/100\n",
      "18/18 [==============================] - 2s 94ms/step - loss: 0.0022 - val_loss: 0.0055\n",
      "Epoch 58/100\n",
      "18/18 [==============================] - 2s 96ms/step - loss: 0.0022 - val_loss: 0.0115\n",
      "Epoch 59/100\n",
      "18/18 [==============================] - 2s 100ms/step - loss: 0.0023 - val_loss: 0.0093\n",
      "Epoch 60/100\n",
      "18/18 [==============================] - 2s 100ms/step - loss: 0.0025 - val_loss: 0.0083\n",
      "Epoch 61/100\n",
      "18/18 [==============================] - 2s 105ms/step - loss: 0.0023 - val_loss: 0.0087\n",
      "Epoch 62/100\n",
      "18/18 [==============================] - 2s 113ms/step - loss: 0.0022 - val_loss: 0.0069\n",
      "Epoch 63/100\n",
      "18/18 [==============================] - 2s 107ms/step - loss: 0.0020 - val_loss: 0.0062\n",
      "Epoch 64/100\n",
      "18/18 [==============================] - 2s 103ms/step - loss: 0.0021 - val_loss: 0.0061\n",
      "Epoch 65/100\n",
      "18/18 [==============================] - 2s 105ms/step - loss: 0.0021 - val_loss: 0.0056\n",
      "Epoch 66/100\n",
      "18/18 [==============================] - 2s 106ms/step - loss: 0.0024 - val_loss: 0.0097\n",
      "Epoch 67/100\n",
      "18/18 [==============================] - 2s 101ms/step - loss: 0.0023 - val_loss: 0.0156\n",
      "Epoch 68/100\n",
      "18/18 [==============================] - 2s 107ms/step - loss: 0.0029 - val_loss: 0.0059\n",
      "Epoch 69/100\n",
      "18/18 [==============================] - 2s 108ms/step - loss: 0.0024 - val_loss: 0.0057\n",
      "Epoch 70/100\n",
      "18/18 [==============================] - 2s 108ms/step - loss: 0.0023 - val_loss: 0.0094\n",
      "Epoch 71/100\n",
      "18/18 [==============================] - 2s 106ms/step - loss: 0.0021 - val_loss: 0.0060\n",
      "Epoch 72/100\n",
      "18/18 [==============================] - 2s 113ms/step - loss: 0.0020 - val_loss: 0.0056\n",
      "Epoch 73/100\n",
      "18/18 [==============================] - 2s 99ms/step - loss: 0.0020 - val_loss: 0.0064\n",
      "Epoch 74/100\n",
      "18/18 [==============================] - 2s 101ms/step - loss: 0.0019 - val_loss: 0.0061\n",
      "Epoch 75/100\n",
      "18/18 [==============================] - 2s 100ms/step - loss: 0.0020 - val_loss: 0.0056\n",
      "Epoch 76/100\n",
      "18/18 [==============================] - 2s 105ms/step - loss: 0.0020 - val_loss: 0.0059\n",
      "Epoch 77/100\n",
      "18/18 [==============================] - 2s 110ms/step - loss: 0.0020 - val_loss: 0.0057\n",
      "Epoch 78/100\n",
      "18/18 [==============================] - 2s 104ms/step - loss: 0.0021 - val_loss: 0.0091\n",
      "Epoch 79/100\n",
      "18/18 [==============================] - 2s 111ms/step - loss: 0.0022 - val_loss: 0.0058\n",
      "Epoch 80/100\n",
      "18/18 [==============================] - 2s 110ms/step - loss: 0.0020 - val_loss: 0.0076\n",
      "Epoch 81/100\n",
      "18/18 [==============================] - 2s 107ms/step - loss: 0.0020 - val_loss: 0.0057\n",
      "Epoch 82/100\n",
      "18/18 [==============================] - 2s 110ms/step - loss: 0.0019 - val_loss: 0.0060\n",
      "Epoch 83/100\n",
      "18/18 [==============================] - 2s 107ms/step - loss: 0.0019 - val_loss: 0.0057\n",
      "Epoch 84/100\n",
      "18/18 [==============================] - 2s 104ms/step - loss: 0.0020 - val_loss: 0.0056\n",
      "Epoch 85/100\n",
      "18/18 [==============================] - 2s 106ms/step - loss: 0.0022 - val_loss: 0.0065\n",
      "Epoch 86/100\n",
      "18/18 [==============================] - 2s 105ms/step - loss: 0.0019 - val_loss: 0.0058\n",
      "Epoch 87/100\n",
      "18/18 [==============================] - 2s 108ms/step - loss: 0.0020 - val_loss: 0.0071\n",
      "Epoch 88/100\n",
      "18/18 [==============================] - 2s 109ms/step - loss: 0.0024 - val_loss: 0.0061\n",
      "Epoch 89/100\n",
      "18/18 [==============================] - 2s 109ms/step - loss: 0.0026 - val_loss: 0.0061\n",
      "Epoch 90/100\n",
      "18/18 [==============================] - 2s 110ms/step - loss: 0.0022 - val_loss: 0.0059\n",
      "Epoch 91/100\n",
      "18/18 [==============================] - 2s 110ms/step - loss: 0.0021 - val_loss: 0.0069\n",
      "Epoch 92/100\n",
      "18/18 [==============================] - 2s 110ms/step - loss: 0.0021 - val_loss: 0.0059\n",
      "Epoch 93/100\n",
      "18/18 [==============================] - 2s 111ms/step - loss: 0.0023 - val_loss: 0.0058\n",
      "Epoch 94/100\n",
      "18/18 [==============================] - 2s 110ms/step - loss: 0.0020 - val_loss: 0.0058\n",
      "Epoch 95/100\n",
      "18/18 [==============================] - 2s 108ms/step - loss: 0.0020 - val_loss: 0.0065\n",
      "Epoch 96/100\n",
      "18/18 [==============================] - 2s 100ms/step - loss: 0.0020 - val_loss: 0.0060\n",
      "Epoch 97/100\n",
      "18/18 [==============================] - 2s 99ms/step - loss: 0.0021 - val_loss: 0.0064\n",
      "Epoch 98/100\n",
      "18/18 [==============================] - 2s 101ms/step - loss: 0.0020 - val_loss: 0.0058\n",
      "Epoch 99/100\n",
      "18/18 [==============================] - 2s 101ms/step - loss: 0.0020 - val_loss: 0.0086\n",
      "Epoch 100/100\n",
      "18/18 [==============================] - 2s 101ms/step - loss: 0.0026 - val_loss: 0.0097\n"
     ]
    },
    {
     "data": {
      "text/plain": [
       "<keras.src.callbacks.History at 0x2659d73f150>"
      ]
     },
     "execution_count": 98,
     "metadata": {},
     "output_type": "execute_result"
    }
   ],
   "source": [
    "model.fit(x_train,y_train,batch_size=64,epochs=100,validation_data=(x_test,y_test))"
   ]
  },
  {
   "cell_type": "code",
   "execution_count": 495,
   "metadata": {},
   "outputs": [
    {
     "data": {
      "text/plain": [
       "(1143, 100, 1)"
      ]
     },
     "execution_count": 495,
     "metadata": {},
     "output_type": "execute_result"
    }
   ],
   "source": [
    "x_train.shape"
   ]
  },
  {
   "cell_type": "code",
   "execution_count": 250,
   "metadata": {},
   "outputs": [
    {
     "name": "stdout",
     "output_type": "stream",
     "text": [
      "36/36 [==============================] - 1s 19ms/step\n",
      "14/14 [==============================] - 0s 20ms/step\n"
     ]
    }
   ],
   "source": [
    "model_train_pred=model.predict(x_train)\n",
    "model_test_pred=model.predict(x_test)"
   ]
  },
  {
   "cell_type": "code",
   "execution_count": 320,
   "metadata": {},
   "outputs": [],
   "source": [
    "model_train_pred=scaler.inverse_transform(model_train_pred)\n",
    "model_test_pred=scaler.inverse_transform(model_test_pred)"
   ]
  },
  {
   "cell_type": "code",
   "execution_count": 321,
   "metadata": {},
   "outputs": [
    {
     "name": "stdout",
     "output_type": "stream",
     "text": [
      "84.98061886903893\n"
     ]
    },
    {
     "data": {
      "text/plain": [
       "159.92877010388784"
      ]
     },
     "execution_count": 321,
     "metadata": {},
     "output_type": "execute_result"
    }
   ],
   "source": [
    "from sklearn.metrics import mean_squared_error\n",
    "import math\n",
    "print(math.sqrt(mean_squared_error(y_train,model_train_pred)))\n",
    "math.sqrt(mean_squared_error(y_test,model_test_pred))"
   ]
  },
  {
   "cell_type": "code",
   "execution_count": 280,
   "metadata": {},
   "outputs": [
    {
     "data": {
      "text/plain": [
       "array([[ 38.223415],\n",
       "       [ 38.220276],\n",
       "       [ 38.149445],\n",
       "       ...,\n",
       "       [161.34383 ],\n",
       "       [162.60918 ],\n",
       "       [166.01802 ]], dtype=float32)"
      ]
     },
     "execution_count": 280,
     "metadata": {},
     "output_type": "execute_result"
    }
   ],
   "source": [
    "scaler.inverse_transform(model_train_pred)"
   ]
  },
  {
   "cell_type": "code",
   "execution_count": 322,
   "metadata": {},
   "outputs": [],
   "source": [
    "dt=np.array(dd)"
   ]
  },
  {
   "cell_type": "code",
   "execution_count": 323,
   "metadata": {},
   "outputs": [],
   "source": [
    "dt=dt.reshape((-1,1))"
   ]
  },
  {
   "cell_type": "code",
   "execution_count": 353,
   "metadata": {},
   "outputs": [
    {
     "data": {
      "text/plain": [
       "array([[1.30196760e-311],\n",
       "       [1.30196786e-311],\n",
       "       [1.30196781e-311],\n",
       "       ...,\n",
       "       [1.30198056e-311],\n",
       "       [0.00000000e+000],\n",
       "       [0.00000000e+000]])"
      ]
     },
     "execution_count": 353,
     "metadata": {},
     "output_type": "execute_result"
    }
   ],
   "source": [
    "train_predicplot=np.empty_like(dt)\n",
    "# train_predicplot[:,:]=np.nan()\n",
    "train_predicplot"
   ]
  },
  {
   "cell_type": "code",
   "execution_count": 363,
   "metadata": {},
   "outputs": [
    {
     "name": "stderr",
     "output_type": "stream",
     "text": [
      "No artists with labels found to put in legend.  Note that artists whose label start with an underscore are ignored when legend() is called with no argument.\n"
     ]
    },
    {
     "data": {
      "text/plain": [
       "<matplotlib.legend.Legend at 0x266023583d0>"
      ]
     },
     "execution_count": 363,
     "metadata": {},
     "output_type": "execute_result"
    },
    {
     "data": {
      "image/png": "[encoded data removed]",
      "text/plain": [
       "<Figure size 640x480 with 1 Axes>"
      ]
     },
     "metadata": {},
     "output_type": "display_data"
    }
   ],
   "source": [
    "look_back=100\n",
    "np.random.seed(123)\n",
    "train_predicplot=np.empty_like(dt)\n",
    "# train_predicplot[:,:]=np.nan()\n",
    "train_predicplot[look_back:len(model_train_pred)+look_back,:]=model_train_pred\n",
    "test_predicplot=np.empty_like(dt)\n",
    "# test_predicplot=np.nan()\n",
    "test_predicplot[len(model_train_pred)+2*look_back+1:len(dt)-1,:]=model_test_pred\n",
    "plt.plot(dt)\n",
    "plt.plot(train_predicplot)\n",
    "plt.plot(test_predicplot)\n",
    "plt.legend()"
   ]
  },
  {
   "cell_type": "code",
   "execution_count": 373,
   "metadata": {},
   "outputs": [],
   "source": [
    "temp_input=test[434:]"
   ]
  },
  {
   "cell_type": "code",
   "execution_count": null,
   "metadata": {},
   "outputs": [],
   "source": [
    "x_"
   ]
  },
  {
   "cell_type": "code",
   "execution_count": 472,
   "metadata": {},
   "outputs": [
    {
     "name": "stdout",
     "output_type": "stream",
     "text": [
      "1/1 [==============================] - 0s 25ms/step\n"
     ]
    },
    {
     "data": {
      "text/plain": [
       "array([2.9364476], dtype=float32)"
      ]
     },
     "execution_count": 472,
     "metadata": {},
     "output_type": "execute_result"
    }
   ],
   "source": [
    "x_input=np.array(temp_input[:])\n",
    "x_input=x_input.reshape((1,100,1))\n",
    "yhat=model.predict(x_input)\n",
    "yhat[0]"
   ]
  },
  {
   "cell_type": "code",
   "execution_count": 477,
   "metadata": {},
   "outputs": [],
   "source": [
    "def predictfornext(days=30):\n",
    "    x_input=test[434:].reshape(1,-1)\n",
    "    x_input=x_input\n",
    "    temp_input=list(x_input)\n",
    "    temp_input=temp_input[0].tolist()\n",
    "    time_step=100\n",
    "    i=0\n",
    "    output=[]\n",
    "    while(i<days):\n",
    "        if(len(temp_input)>100):\n",
    "            x_input=np.array(temp_input[1:])\n",
    "            x_input=x_input.reshape((1,100,1))\n",
    "            yhat=model.predict(x_input)\n",
    "            \n",
    "            temp_input.extend(yhat[0].tolist())\n",
    "            temp_input=temp_input[1:]\n",
    "            output.append(yhat[0].tolist())\n",
    "            i+=1\n",
    "        else:\n",
    "            x_input=x_input.reshape((1,100,1))\n",
    "            yhat=model.predict(x_input)\n",
    "            temp_input.extend(yhat[0].tolist())\n",
    "            output.append(yhat[0].tolist())\n",
    "            i+=1     \n",
    "    return output        \n"
   ]
  },
  {
   "cell_type": "code",
   "execution_count": 478,
   "metadata": {},
   "outputs": [
    {
     "name": "stdout",
     "output_type": "stream",
     "text": [
      "1/1 [==============================] - 0s 22ms/step\n",
      "1/1 [==============================] - 0s 24ms/step\n",
      "1/1 [==============================] - 0s 23ms/step\n",
      "1/1 [==============================] - 0s 21ms/step\n",
      "1/1 [==============================] - 0s 16ms/step\n",
      "1/1 [==============================] - 0s 22ms/step\n",
      "1/1 [==============================] - 0s 18ms/step\n",
      "1/1 [==============================] - 0s 22ms/step\n",
      "1/1 [==============================] - 0s 23ms/step\n",
      "1/1 [==============================] - 0s 22ms/step\n",
      "1/1 [==============================] - 0s 22ms/step\n",
      "1/1 [==============================] - 0s 19ms/step\n",
      "1/1 [==============================] - 0s 23ms/step\n",
      "1/1 [==============================] - 0s 21ms/step\n",
      "1/1 [==============================] - 0s 25ms/step\n",
      "1/1 [==============================] - 0s 22ms/step\n",
      "1/1 [==============================] - 0s 22ms/step\n",
      "1/1 [==============================] - 0s 24ms/step\n",
      "1/1 [==============================] - 0s 23ms/step\n",
      "1/1 [==============================] - 0s 24ms/step\n",
      "1/1 [==============================] - 0s 24ms/step\n",
      "1/1 [==============================] - 0s 23ms/step\n",
      "1/1 [==============================] - 0s 28ms/step\n",
      "1/1 [==============================] - 0s 26ms/step\n",
      "1/1 [==============================] - 0s 24ms/step\n",
      "1/1 [==============================] - 0s 22ms/step\n",
      "1/1 [==============================] - 0s 26ms/step\n",
      "1/1 [==============================] - 0s 25ms/step\n",
      "1/1 [==============================] - 0s 23ms/step\n",
      "1/1 [==============================] - 0s 21ms/step\n"
     ]
    }
   ],
   "source": [
    "pred=predictfornext(30)"
   ]
  },
  {
   "cell_type": "code",
   "execution_count": 479,
   "metadata": {},
   "outputs": [
    {
     "data": {
      "text/plain": [
       "[[2.9364476203918457],\n",
       " [2.885193347930908],\n",
       " [2.8431384563446045],\n",
       " [2.8097808361053467],\n",
       " [2.778799295425415],\n",
       " [2.748176097869873],\n",
       " [2.717162847518921],\n",
       " [2.685529947280884],\n",
       " [2.6532440185546875],\n",
       " [2.6203196048736572],\n",
       " [2.5867652893066406],\n",
       " [2.552560806274414],\n",
       " [2.517657518386841],\n",
       " [2.4819793701171875],\n",
       " [2.445430278778076],\n",
       " [2.407897472381592],\n",
       " [2.3692595958709717],\n",
       " [2.329388380050659],\n",
       " [2.288156032562256],\n",
       " [2.2454376220703125],\n",
       " [2.201122999191284],\n",
       " [2.155122995376587],\n",
       " [2.1073825359344482],\n",
       " [2.057893991470337],\n",
       " [2.006711959838867],\n",
       " [1.953967809677124],\n",
       " [1.8998873233795166],\n",
       " [1.8448082208633423],\n",
       " [1.789203405380249],\n",
       " [1.7337092161178589]]"
      ]
     },
     "execution_count": 479,
     "metadata": {},
     "output_type": "execute_result"
    }
   ],
   "source": [
    "pred"
   ]
  },
  {
   "cell_type": "code",
   "execution_count": 492,
   "metadata": {},
   "outputs": [],
   "source": [
    "day_new=np.arange(1,101)\n",
    "day_pred=np.arange(101,131)"
   ]
  },
  {
   "cell_type": "code",
   "execution_count": 490,
   "metadata": {},
   "outputs": [],
   "source": [
    "pred=scaler.inverse_transform(pred)"
   ]
  },
  {
   "cell_type": "code",
   "execution_count": 489,
   "metadata": {},
   "outputs": [
    {
     "data": {
      "text/plain": [
       "[188.27999877929688,\n",
       " 188.39999389648438,\n",
       " 175.17999267578125,\n",
       " 178.35000610351562,\n",
       " 180.07000732421875,\n",
       " 179.49000549316406,\n",
       " 176.50999450683594,\n",
       " 174.0,\n",
       " 176.47999572753906,\n",
       " 176.47999572753906,\n",
       " 177.52000427246094,\n",
       " 179.25999450683594,\n",
       " 174.5500030517578,\n",
       " 174.6699981689453,\n",
       " 174.1999969482422,\n",
       " 174.82000732421875,\n",
       " 172.6199951171875,\n",
       " 169.33999633789062,\n",
       " 172.02000427246094,\n",
       " 171.22000122070312,\n",
       " 172.25999450683594,\n",
       " 171.08999633789062,\n",
       " 173.7899932861328,\n",
       " 173.8000030517578,\n",
       " 176.80999755859375,\n",
       " 178.10000610351562,\n",
       " 178.1999969482422,\n",
       " 180.07000732421875,\n",
       " 181.4199981689453,\n",
       " 176.75,\n",
       " 176.64999389648438,\n",
       " 175.5800018310547,\n",
       " 176.0399932861328,\n",
       " 175.30999755859375,\n",
       " 170.91000366210938,\n",
       " 173.0500030517578,\n",
       " 171.8800048828125,\n",
       " 170.3699951171875,\n",
       " 166.91000366210938,\n",
       " 169.02000427246094,\n",
       " 169.35000610351562,\n",
       " 171.0,\n",
       " 175.52000427246094,\n",
       " 174.24000549316406,\n",
       " 176.3800048828125,\n",
       " 179.17999267578125,\n",
       " 182.35000610351562,\n",
       " 182.9600067138672,\n",
       " 183.97000122070312,\n",
       " 185.82000732421875,\n",
       " 187.6999969482422,\n",
       " 187.85000610351562,\n",
       " 189.57000732421875,\n",
       " 190.25,\n",
       " 189.88999938964844,\n",
       " 191.41000366210938,\n",
       " 191.49000549316406,\n",
       " 190.8699951171875,\n",
       " 189.9199981689453,\n",
       " 189.77999877929688,\n",
       " 190.89999389648438,\n",
       " 189.83999633789062,\n",
       " 190.3300018310547,\n",
       " 189.97999572753906,\n",
       " 190.2100067138672,\n",
       " 194.4499969482422,\n",
       " 193.6300048828125,\n",
       " 194.1999969482422,\n",
       " 193.11000061035156,\n",
       " 193.0800018310547,\n",
       " 195.08999633789062,\n",
       " 198.02000427246094,\n",
       " 197.52999877929688,\n",
       " 196.08999633789062,\n",
       " 196.16000366210938,\n",
       " 196.89999389648438,\n",
       " 196.10000610351562,\n",
       " 195.17999267578125,\n",
       " 193.61000061035156,\n",
       " 192.49000549316406,\n",
       " 194.13999938964844,\n",
       " 193.89999389648438,\n",
       " 187.14999389648438,\n",
       " 184.22000122070312,\n",
       " 182.14999389648438,\n",
       " 181.99000549316406,\n",
       " 182.08999633789062,\n",
       " 183.9199981689453,\n",
       " 184.35000610351562,\n",
       " 186.5399932861328,\n",
       " 186.05999755859375,\n",
       " 182.16000366210938,\n",
       " 181.27000427246094,\n",
       " 186.08999633789062,\n",
       " 189.3300018310547,\n",
       " 192.3000030517578,\n",
       " 195.02000427246094,\n",
       " 195.4199981689453,\n",
       " 195.22000122070312,\n",
       " 194.27000427246094]"
      ]
     },
     "execution_count": 489,
     "metadata": {},
     "output_type": "execute_result"
    }
   ],
   "source": [
    "x_input=test[434:].reshape(1,-1)\n",
    "x_input=scaler.inverse_transform(x_input)\n",
    "temp_input=list(x_input)\n",
    "# temp_input=temp_input[0].tolist()\n",
    "# temp_input=scaler.inverse_transform(temp_input)\n",
    "temp_input=temp_input[0].tolist()\n",
    "temp_input"
   ]
  },
  {
   "cell_type": "code",
   "execution_count": 493,
   "metadata": {},
   "outputs": [
    {
     "data": {
      "text/plain": [
       "[<matplotlib.lines.Line2D at 0x266096808d0>]"
      ]
     },
     "execution_count": 493,
     "metadata": {},
     "output_type": "execute_result"
    },
    {
     "data": {
      "image/png": "[encoded data removed]",
      "text/plain": [
       "<Figure size 640x480 with 1 Axes>"
      ]
     },
     "metadata": {},
     "output_type": "display_data"
    }
   ],
   "source": [
    "plt.plot(day_new,temp_input)\n",
    "plt.plot(day_pred,pred)"
   ]
  }
 ],
 "metadata": {
  "kernelspec": {
   "display_name": "Python 3",
   "language": "python",
   "name": "python3"
  },
  "language_info": {
   "codemirror_mode": {
    "name": "ipython",
    "version": 3
   },
   "file_extension": ".py",
   "mimetype": "text/x-python",
   "name": "python",
   "nbconvert_exporter": "python",
   "pygments_lexer": "ipython3",
   "version": "3.11.1"
  }
 },
 "nbformat": 4,
 "nbformat_minor": 2
}
